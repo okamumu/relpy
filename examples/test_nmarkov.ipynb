{
 "cells": [
  {
   "cell_type": "code",
   "execution_count": 1,
   "metadata": {},
   "outputs": [],
   "source": [
    "import relpy as pm\n",
    "import numpy as np\n",
    "import scipy.sparse as sp"
   ]
  },
  {
   "cell_type": "code",
   "execution_count": 2,
   "metadata": {},
   "outputs": [
    {
     "data": {
      "text/plain": [
       "1.01"
      ]
     },
     "execution_count": 2,
     "metadata": {},
     "output_type": "execute_result"
    }
   ],
   "source": [
    "params = pm.Params()\n",
    "params.ufact"
   ]
  },
  {
   "cell_type": "code",
   "execution_count": 3,
   "metadata": {},
   "outputs": [],
   "source": [
    "Q=np.array([[-5,2,3],[2,-3,1],[1,1,-2]], dtype='float')"
   ]
  },
  {
   "cell_type": "code",
   "execution_count": 4,
   "metadata": {},
   "outputs": [
    {
     "data": {
      "text/plain": [
       "array([[-5.,  2.,  3.],\n",
       "       [ 2., -3.,  1.],\n",
       "       [ 1.,  1., -2.]])"
      ]
     },
     "execution_count": 4,
     "metadata": {},
     "output_type": "execute_result"
    }
   ],
   "source": [
    "Q"
   ]
  },
  {
   "cell_type": "code",
   "execution_count": 5,
   "metadata": {},
   "outputs": [],
   "source": [
    "pis = pm.ctmc_st_gth_dense(Q)"
   ]
  },
  {
   "cell_type": "code",
   "execution_count": 6,
   "metadata": {},
   "outputs": [
    {
     "data": {
      "text/plain": [
       "array([0.2173913 , 0.30434783, 0.47826087])"
      ]
     },
     "execution_count": 6,
     "metadata": {},
     "output_type": "execute_result"
    }
   ],
   "source": [
    "pm.ctmc_st_gs_dense(Q, np.array([1,1,1]), params)"
   ]
  },
  {
   "cell_type": "code",
   "execution_count": 7,
   "metadata": {},
   "outputs": [
    {
     "data": {
      "text/plain": [
       "30"
      ]
     },
     "execution_count": 7,
     "metadata": {},
     "output_type": "execute_result"
    }
   ],
   "source": [
    "params.iter"
   ]
  },
  {
   "cell_type": "code",
   "execution_count": 8,
   "metadata": {},
   "outputs": [],
   "source": [
    "dQ=np.array([[-1,1,0],[0,0,0],[0,0,0]])"
   ]
  },
  {
   "cell_type": "code",
   "execution_count": 9,
   "metadata": {},
   "outputs": [],
   "source": [
    "dpis = pm.ctmc_stsen_gs_dense(Q, np.array([1,1,1]), np.dot(pis, dQ), pis, params)"
   ]
  },
  {
   "cell_type": "code",
   "execution_count": 10,
   "metadata": {},
   "outputs": [
    {
     "data": {
      "text/plain": [
       "array([-5.55111512e-17,  5.55111512e-17, -1.11022302e-16])"
      ]
     },
     "execution_count": 10,
     "metadata": {},
     "output_type": "execute_result"
    }
   ],
   "source": [
    "pis @ Q"
   ]
  },
  {
   "cell_type": "code",
   "execution_count": 11,
   "metadata": {},
   "outputs": [
    {
     "data": {
      "text/plain": [
       "array([ 0.95652174,  0.        , -0.43478261])"
      ]
     },
     "execution_count": 11,
     "metadata": {},
     "output_type": "execute_result"
    }
   ],
   "source": [
    "Q @ pis"
   ]
  },
  {
   "cell_type": "code",
   "execution_count": 12,
   "metadata": {},
   "outputs": [
    {
     "data": {
      "text/plain": [
       "array([-5.55111512e-17,  0.00000000e+00, -6.93889390e-18])"
      ]
     },
     "execution_count": 12,
     "metadata": {},
     "output_type": "execute_result"
    }
   ],
   "source": [
    "dpis @ Q + pis @ dQ"
   ]
  },
  {
   "cell_type": "code",
   "execution_count": 13,
   "metadata": {},
   "outputs": [
    {
     "data": {
      "text/plain": [
       "0.0"
      ]
     },
     "execution_count": 13,
     "metadata": {},
     "output_type": "execute_result"
    }
   ],
   "source": [
    "sum(dpis)"
   ]
  },
  {
   "cell_type": "code",
   "execution_count": 14,
   "metadata": {},
   "outputs": [
    {
     "data": {
      "text/plain": [
       "array([-0.02835539,  0.04725898, -0.01890359])"
      ]
     },
     "execution_count": 14,
     "metadata": {},
     "output_type": "execute_result"
    }
   ],
   "source": [
    "dpis"
   ]
  },
  {
   "cell_type": "code",
   "execution_count": 15,
   "metadata": {},
   "outputs": [],
   "source": [
    "params.rmax = 1000"
   ]
  },
  {
   "cell_type": "code",
   "execution_count": 16,
   "metadata": {},
   "outputs": [
    {
     "data": {
      "text/plain": [
       "array([[1, 0],\n",
       "       [0, 0],\n",
       "       [0, 1]])"
      ]
     },
     "execution_count": 16,
     "metadata": {},
     "output_type": "execute_result"
    }
   ],
   "source": [
    "x0=np.array([[1,0,0],[0,0,1]]).transpose()\n",
    "x0"
   ]
  },
  {
   "cell_type": "code",
   "execution_count": 17,
   "metadata": {},
   "outputs": [
    {
     "data": {
      "text/plain": [
       "array([[0.21885603, 0.21339907],\n",
       "       [0.30429041, 0.29507088],\n",
       "       [0.47685357, 0.49153005]])"
      ]
     },
     "execution_count": 17,
     "metadata": {},
     "output_type": "execute_result"
    }
   ],
   "source": [
    "pm.ctmc_mexp_dense(Q, x0, 1, True, params)"
   ]
  },
  {
   "cell_type": "code",
   "execution_count": 18,
   "metadata": {},
   "outputs": [
    {
     "data": {
      "text/plain": [
       "array([[0, 0],\n",
       "       [0, 0],\n",
       "       [0, 0]])"
      ]
     },
     "execution_count": 18,
     "metadata": {},
     "output_type": "execute_result"
    }
   ],
   "source": [
    "cx0=np.zeros_like(x0)\n",
    "cx0"
   ]
  },
  {
   "cell_type": "code",
   "execution_count": 19,
   "metadata": {},
   "outputs": [
    {
     "data": {
      "text/plain": [
       "(array([[0.2173913 , 0.2173913 ],\n",
       "        [0.30434783, 0.30434783],\n",
       "        [0.47826087, 0.47826087]]), array([[2.29678639, 2.12287334],\n",
       "        [2.99810964, 2.95463138],\n",
       "        [4.70510397, 4.92249527]]))"
      ]
     },
     "execution_count": 19,
     "metadata": {},
     "output_type": "execute_result"
    }
   ],
   "source": [
    "pm.ctmc_mexpint_dense(Q, x0, cx0, 10, True, params)"
   ]
  },
  {
   "cell_type": "code",
   "execution_count": 20,
   "metadata": {},
   "outputs": [
    {
     "name": "stdout",
     "output_type": "stream",
     "text": [
      "[[-5.  2.  3.]\n",
      " [ 2. -3.  1.]\n",
      " [ 1.  1. -2.]]\n",
      "  (0, 0)\t-5.0\n",
      "  (1, 0)\t2.0\n",
      "  (2, 0)\t1.0\n",
      "  (0, 1)\t2.0\n",
      "  (1, 1)\t-3.0\n",
      "  (2, 1)\t1.0\n",
      "  (0, 2)\t3.0\n",
      "  (1, 2)\t1.0\n",
      "  (2, 2)\t-2.0\n"
     ]
    }
   ],
   "source": [
    "spQ=sp.csc_matrix(Q)\n",
    "print(Q)\n",
    "print(spQ)"
   ]
  },
  {
   "cell_type": "code",
   "execution_count": 21,
   "metadata": {},
   "outputs": [
    {
     "name": "stdout",
     "output_type": "stream",
     "text": [
      "  (0, 0)\t-5.0\n",
      "  (1, 0)\t2.0\n",
      "  (2, 0)\t1.0\n",
      "  (0, 1)\t2.0\n",
      "  (1, 1)\t-3.0\n",
      "  (2, 1)\t1.0\n",
      "  (0, 2)\t3.0\n",
      "  (1, 2)\t1.0\n",
      "  (2, 2)\t-2.0\n"
     ]
    }
   ],
   "source": [
    "print(spQ)"
   ]
  },
  {
   "cell_type": "code",
   "execution_count": 22,
   "metadata": {},
   "outputs": [
    {
     "data": {
      "text/plain": [
       "array([0.2173913 , 0.30434783, 0.47826087])"
      ]
     },
     "execution_count": 22,
     "metadata": {},
     "output_type": "execute_result"
    }
   ],
   "source": [
    "pm.ctmc_st_gth_sparse(Q=spQ)"
   ]
  },
  {
   "cell_type": "code",
   "execution_count": 23,
   "metadata": {},
   "outputs": [
    {
     "data": {
      "text/plain": [
       "array([0.2173913 , 0.30434783, 0.47826087])"
      ]
     },
     "execution_count": 23,
     "metadata": {},
     "output_type": "execute_result"
    }
   ],
   "source": [
    "pis"
   ]
  },
  {
   "cell_type": "code",
   "execution_count": 24,
   "metadata": {},
   "outputs": [
    {
     "data": {
      "text/plain": [
       "array([[0.21885603, 0.21339907],\n",
       "       [0.30429041, 0.29507088],\n",
       "       [0.47685357, 0.49153005]])"
      ]
     },
     "execution_count": 24,
     "metadata": {},
     "output_type": "execute_result"
    }
   ],
   "source": [
    "pm.ctmc_mexp_sparse(spQ, x0, 1, True, params)"
   ]
  },
  {
   "cell_type": "code",
   "execution_count": 25,
   "metadata": {},
   "outputs": [],
   "source": [
    "dpis = pm.ctmc_stsen_gs_sparse(spQ, np.array([1,1,1]), np.dot(pis, dQ), pis, params)"
   ]
  },
  {
   "cell_type": "code",
   "execution_count": 26,
   "metadata": {},
   "outputs": [
    {
     "data": {
      "text/plain": [
       "array([-0.02835539,  0.04725898, -0.01890359])"
      ]
     },
     "execution_count": 26,
     "metadata": {},
     "output_type": "execute_result"
    }
   ],
   "source": [
    "dpis"
   ]
  },
  {
   "cell_type": "code",
   "execution_count": 27,
   "metadata": {},
   "outputs": [
    {
     "data": {
      "text/plain": [
       "matrix([[-5.,  2.,  3.],\n",
       "        [ 2., -3.,  1.],\n",
       "        [ 1.,  1., -2.]])"
      ]
     },
     "execution_count": 27,
     "metadata": {},
     "output_type": "execute_result"
    }
   ],
   "source": [
    "spQ.todense()"
   ]
  },
  {
   "cell_type": "code",
   "execution_count": 28,
   "metadata": {},
   "outputs": [
    {
     "data": {
      "text/plain": [
       "3"
      ]
     },
     "execution_count": 28,
     "metadata": {},
     "output_type": "execute_result"
    }
   ],
   "source": [
    "Q.shape[0]"
   ]
  },
  {
   "cell_type": "code",
   "execution_count": 29,
   "metadata": {},
   "outputs": [
    {
     "data": {
      "text/plain": [
       "array([0.1, 0.1, 0.1, 0.1, 0.1, 0.1, 0.1, 0.1, 0.1, 0.1])"
      ]
     },
     "execution_count": 29,
     "metadata": {},
     "output_type": "execute_result"
    }
   ],
   "source": [
    "np.full(10,1/10)"
   ]
  },
  {
   "cell_type": "code",
   "execution_count": 30,
   "metadata": {},
   "outputs": [
    {
     "data": {
      "text/plain": [
       "32"
      ]
     },
     "execution_count": 30,
     "metadata": {},
     "output_type": "execute_result"
    }
   ],
   "source": [
    "np.dot(np.array([1,2,3]), np.array([4,5,6]))"
   ]
  },
  {
   "cell_type": "code",
   "execution_count": 31,
   "metadata": {},
   "outputs": [],
   "source": [
    "t=np.array([1,1,1,1,1], dtype='float')"
   ]
  },
  {
   "cell_type": "code",
   "execution_count": 32,
   "metadata": {},
   "outputs": [
    {
     "data": {
      "text/plain": [
       "array([0.21885603, 0.30429041, 0.47685357, 0.21339907, 0.29507088,\n",
       "       0.49153005, 0.21739877, 0.30435996, 0.47824127, 0.21728399,\n",
       "       0.30408934, 0.47862667, 0.21739146, 0.30434818, 0.47826036,\n",
       "       0.21738834, 0.30434066, 0.478271  , 0.21739131, 0.30434784,\n",
       "       0.47826086, 0.21739122, 0.30434763, 0.47826115, 0.2173913 ,\n",
       "       0.30434783, 0.47826087, 0.2173913 , 0.30434782, 0.47826088])"
      ]
     },
     "execution_count": 32,
     "metadata": {},
     "output_type": "execute_result"
    }
   ],
   "source": [
    "res=pm.ctmc_tran_sparse(spQ, x0, cx0, t, True, params)\n",
    "res[0]"
   ]
  },
  {
   "cell_type": "code",
   "execution_count": 33,
   "metadata": {},
   "outputs": [
    {
     "data": {
      "text/plain": [
       "array([[[0.21885603, 0.30408934, 0.47826086],\n",
       "        [0.49153005, 0.21738834, 0.30434783]],\n",
       "\n",
       "       [[0.30429041, 0.47862667, 0.21739122],\n",
       "        [0.21739877, 0.30434066, 0.47826087]],\n",
       "\n",
       "       [[0.47685357, 0.21739146, 0.30434763],\n",
       "        [0.30435996, 0.478271  , 0.2173913 ]],\n",
       "\n",
       "       [[0.21339907, 0.30434818, 0.47826115],\n",
       "        [0.47824127, 0.21739131, 0.30434782]],\n",
       "\n",
       "       [[0.29507088, 0.47826036, 0.2173913 ],\n",
       "        [0.21728399, 0.30434784, 0.47826088]]])"
      ]
     },
     "execution_count": 33,
     "metadata": {},
     "output_type": "execute_result"
    }
   ],
   "source": [
    "res[0].reshape((5, 2, 3), order='F')"
   ]
  },
  {
   "cell_type": "code",
   "execution_count": 34,
   "metadata": {},
   "outputs": [
    {
     "data": {
      "text/plain": [
       "array([[0.21885603, 0.21339907],\n",
       "       [0.30429041, 0.29507088],\n",
       "       [0.47685357, 0.49153005]])"
      ]
     },
     "execution_count": 34,
     "metadata": {},
     "output_type": "execute_result"
    }
   ],
   "source": [
    "pm.ctmc_mexp_dense(Q, x0, 1, True, params)"
   ]
  },
  {
   "cell_type": "code",
   "execution_count": 35,
   "metadata": {},
   "outputs": [
    {
     "data": {
      "text/plain": [
       "array([[0, 0],\n",
       "       [0, 0],\n",
       "       [0, 0]])"
      ]
     },
     "execution_count": 35,
     "metadata": {},
     "output_type": "execute_result"
    }
   ],
   "source": [
    "cx0"
   ]
  },
  {
   "cell_type": "code",
   "execution_count": 37,
   "metadata": {},
   "outputs": [
    {
     "data": {
      "text/plain": [
       "(array([[0.2173913 , 0.2173913 ],\n",
       "        [0.30434783, 0.30434782],\n",
       "        [0.47826087, 0.47826088]]), array([[1.20982987, 1.03591682],\n",
       "        [1.47637051, 1.43289225],\n",
       "        [2.31379962, 2.53119092]]), array([0.52314643, 0.78114397, 0.50846995, 0.78660093, 0.52175873,\n",
       "        0.78260123, 0.52137333, 0.78271601, 0.52173964, 0.78260854,\n",
       "        0.521729  , 0.78261166, 0.52173914, 0.78260869, 0.52173885,\n",
       "        0.78260878, 0.52173913, 0.7826087 , 0.52173912, 0.7826087 ]), array([0.59894291, 0.65998759, 0.38554385, 0.83255075, 1.12097767,\n",
       "        1.44234587, 0.90369368, 1.61622719, 1.64272197, 2.22495278,\n",
       "        1.42533364, 2.39886496, 2.16446124, 3.00756144, 1.94707002,\n",
       "        3.18147446, 2.68620038, 3.79017013, 2.46880908, 3.96408318]))"
      ]
     },
     "execution_count": 37,
     "metadata": {},
     "output_type": "execute_result"
    }
   ],
   "source": [
    "rwd = np.array([[1,1,0],[0,1,1]]).transpose()\n",
    "res=pm.ctmc_tran_rwd_dense(Q, x0, cx0, rwd, t, True, params)\n",
    "res"
   ]
  },
  {
   "cell_type": "code",
   "execution_count": null,
   "metadata": {},
   "outputs": [],
   "source": []
  }
 ],
 "metadata": {
  "kernelspec": {
   "display_name": "Python 3",
   "language": "python",
   "name": "python3"
  },
  "language_info": {
   "codemirror_mode": {
    "name": "ipython",
    "version": 3
   },
   "file_extension": ".py",
   "mimetype": "text/x-python",
   "name": "python",
   "nbconvert_exporter": "python",
   "pygments_lexer": "ipython3",
   "version": "3.7.3"
  }
 },
 "nbformat": 4,
 "nbformat_minor": 2
}
