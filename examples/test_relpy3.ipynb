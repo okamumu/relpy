{
 "cells": [
  {
   "cell_type": "code",
   "execution_count": 1,
   "metadata": {},
   "outputs": [],
   "source": [
    "import numpy as np\n",
    "import scipy.sparse as sp\n",
    "import relpy as rp\n",
    "import matplotlib.pyplot as plt\n",
    "import pydotplus\n",
    "from IPython.display import Image\n",
    "import time"
   ]
  },
  {
   "cell_type": "code",
   "execution_count": 2,
   "metadata": {},
   "outputs": [],
   "source": [
    "def draw(x):\n",
    "    dotf = x.todot()\n",
    "    g = pydotplus.graph_from_dot_data(dotf)\n",
    "    return Image(g.create_png())"
   ]
  },
  {
   "cell_type": "code",
   "execution_count": 3,
   "metadata": {},
   "outputs": [
    {
     "name": "stdout",
     "output_type": "stream",
     "text": [
      "include ./param_sharpe\n",
      "include ./models.txt\n"
     ]
    }
   ],
   "source": [
    "with open('sip.py', 'w') as f:\n",
    "    script = rp.parse('./avail.txt')\n",
    "    f.write(script)"
   ]
  },
  {
   "cell_type": "code",
   "execution_count": 4,
   "metadata": {},
   "outputs": [],
   "source": [
    "from sip import *"
   ]
  },
  {
   "cell_type": "code",
   "execution_count": 5,
   "metadata": {},
   "outputs": [],
   "source": [
    "_time = rp.Parameter('t')\n",
    "gamma = bind_gamma(gamma_die, gamma_hang)\n",
    "pxy_gamma = bind_pxy_gamma(pxy_gamma_die, pxy_gamma_hang)\n",
    "pairup = ctmc_pairup(b, beta_m, c, d, delta1, delta2, delta_m, e, gamma, mu, phi, q, r, rou_a, rou_m)\n",
    "pxy_pairup = ctmc_pxy_pairup(pxy_b, pxy_beta_m, pxy_c, pxy_d, pxy_delta1, pxy_delta2, pxy_delta_m, pxy_e, pxy_gamma, pxy_mu, pxy_phi, pxy_q, pxy_r, pxy_rou_a, pxy_rou_m)\n",
    "appserver = ctmc_appserver(b, beta_m, d, delta1, delta2, delta_m, e, gamma, mu, q, r, rou_a, rou_m)\n",
    "proxy = ctmc_proxy(pxy_b, pxy_beta_m, pxy_d, pxy_delta1, pxy_delta2, pxy_delta_m, pxy_e, pxy_gamma, pxy_mu, pxy_q, pxy_r, pxy_rou_a, pxy_rou_m)\n",
    "midplane = ctmc_midplane(alpha_sp, c_mp, mu_mp, plambda_mp)\n",
    "cooling = ctmc_cooling(alpha_sp, mu_2c, mu_c, plambda_c)\n",
    "power = ctmc_power(alpha_sp, c_ps, mu_2ps, mu_ps, plambda_ps)\n",
    "processor = ctmc_processor(alpha_sp, mu_cpu, plambda_cpu)\n",
    "memory = ctmc_memory(alpha_sp, mu_mem, plambda_mem)\n",
    "disk = ctmc_disk(alpha_sp, chi_hd, mu_2hd, mu_hd, plambda_hd)\n",
    "base = ctmc_base(alpha_sp, mu_base, plambda_base)\n",
    "OS = ctmc_OS(alpha_sp, b_os, beta_os, delta_os, mu_os, plambda_os)\n",
    "nic = ctmc_nic(alpha_sp, mu_nic, plambda_nic)\n",
    "switch = ctmc_switch(alpha_sp, mu_esw, plambda_esw)\n",
    "f_esw = bind_f_esw(plambda_esw, switch)\n",
    "f_nic = bind_f_nic(nic, plambda_nic)\n",
    "u_esw = bind_u_esw(f_esw, switch)\n",
    "u_nic = bind_u_nic(f_nic, nic)\n",
    "network = ftree_network(_time, plambda_esw, plambda_nic)\n",
    "CM = ftree_CM(cooling, midplane, power)\n",
    "BLADE = ftree_BLADE(OS, base, disk, memory, processor)\n",
    "CLUSTER = ftree_CLUSTER(BLADE, CM, appserver, nic, proxy, switch)\n"
   ]
  },
  {
   "cell_type": "code",
   "execution_count": 6,
   "metadata": {},
   "outputs": [
    {
     "name": "stdout",
     "output_type": "stream",
     "text": [
      "elapsed_time:0.1439347267150879 [sec]\n"
     ]
    }
   ],
   "source": [
    "start = time.time()\n",
    "x = CLUSTER.seval(env)\n",
    "print(\"elapsed_time:{0} [sec]\".format(time.time() - start))"
   ]
  },
  {
   "cell_type": "code",
   "execution_count": 7,
   "metadata": {},
   "outputs": [
    {
     "name": "stdout",
     "output_type": "stream",
     "text": [
      "58\n"
     ]
    }
   ],
   "source": [
    "params = CLUSTER.paramlist()\n",
    "print(len(params))"
   ]
  },
  {
   "cell_type": "code",
   "execution_count": 8,
   "metadata": {},
   "outputs": [
    {
     "name": "stdout",
     "output_type": "stream",
     "text": [
      "elapsed_time:1.427675724029541 [sec]\n"
     ]
    },
    {
     "data": {
      "text/plain": [
       "4.217352743086264e-14"
      ]
     },
     "execution_count": 8,
     "metadata": {},
     "output_type": "execute_result"
    }
   ],
   "source": [
    "start = time.time()\n",
    "ddx = CLUSTER.sderiv2(env, params[0], params[1])\n",
    "print(\"elapsed_time:{0} [sec]\".format(time.time() - start))\n",
    "ddx"
   ]
  },
  {
   "cell_type": "code",
   "execution_count": 9,
   "metadata": {},
   "outputs": [
    {
     "name": "stdout",
     "output_type": "stream",
     "text": [
      "elapsed_time:24.015148878097534 [sec]\n"
     ]
    }
   ],
   "source": [
    "start = time.time()\n",
    "dx = [CLUSTER.sderiv(env, x) for x in params]\n",
    "print(\"elapsed_time:{0} [sec]\".format(time.time() - start))"
   ]
  },
  {
   "cell_type": "code",
   "execution_count": 10,
   "metadata": {},
   "outputs": [
    {
     "name": "stdout",
     "output_type": "stream",
     "text": [
      "elapsed_time:5491.317338943481 [sec]\n"
     ]
    }
   ],
   "source": [
    "start = time.time()\n",
    "dxx = [[CLUSTER.sderiv2(env, x1, x2) for x1 in params] for x2 in params]\n",
    "print(\"elapsed_time:{0} [sec]\".format(time.time() - start))"
   ]
  },
  {
   "cell_type": "code",
   "execution_count": 12,
   "metadata": {},
   "outputs": [],
   "source": [
    "dxx=np.array(dxx)"
   ]
  },
  {
   "cell_type": "code",
   "execution_count": 13,
   "metadata": {},
   "outputs": [
    {
     "name": "stdout",
     "output_type": "stream",
     "text": [
      "[[3.74553994e-06 4.21735274e-14 4.53546392e-07 ... 8.11547531e-14\n",
      "  1.21992847e-15 1.74748862e-15]\n",
      " [4.21735274e-14 2.27750999e-15 1.46183496e-13 ... 5.31125201e-13\n",
      "  6.58801729e-17 9.43701660e-17]\n",
      " [4.53546392e-07 1.46183496e-13 2.36003725e-07 ... 2.81301714e-13\n",
      "  4.22856280e-15 6.05721199e-15]\n",
      " ...\n",
      " [8.11547531e-14 5.31125201e-13 2.81301714e-13 ... 8.43350986e-15\n",
      "  1.26773583e-16 1.81597035e-16]\n",
      " [1.21992847e-15 6.58801729e-17 4.22856280e-15 ... 1.26773583e-16\n",
      "  3.90331663e-17 2.72978950e-18]\n",
      " [1.74748862e-15 9.43701660e-17 6.05721199e-15 ... 1.81597035e-16\n",
      "  2.72978950e-18 2.02599859e-16]]\n"
     ]
    }
   ],
   "source": [
    "print(dxx)"
   ]
  },
  {
   "cell_type": "code",
   "execution_count": 14,
   "metadata": {},
   "outputs": [],
   "source": [
    "dx=np.array(dx)"
   ]
  },
  {
   "cell_type": "code",
   "execution_count": 15,
   "metadata": {},
   "outputs": [
    {
     "data": {
      "text/plain": [
       "array([-7.43218296e-07, -2.63371288e-14, -1.85015233e-07, -2.25008826e-16,\n",
       "       -1.71310400e-09,  8.04791253e-06, -3.04102242e-05,  4.66499622e-18,\n",
       "       -3.37655498e-14, -1.53325349e-20, -4.90424853e-14, -8.44138744e-16,\n",
       "       -1.54179360e-08, -1.42405025e-13,  4.45075951e-10,  4.45075951e-10,\n",
       "       -5.26742576e-15, -1.72405029e-13, -1.41719354e-15, -3.35856203e-08,\n",
       "       -4.71827074e-10, -2.46291439e-14, -2.18954005e-10, -4.99287294e-13,\n",
       "       -3.29303906e-10, -6.07515184e-10, -8.04788488e-07, -5.48772578e-16,\n",
       "       -7.70896802e-10, -3.13966854e-12,  1.62086755e-03,  1.29116499e-05,\n",
       "        3.24175330e-03,  1.46895495e-05,  1.07840626e-03,  6.48345065e-03,\n",
       "        1.01802646e+00,  1.02281836e-08,  4.41199658e-04,  1.23485666e-01,\n",
       "       -7.20300675e-09, -6.20691185e-11, -9.23462404e-09, -4.14573250e-18,\n",
       "       -1.34128910e-08, -2.30865601e-10, -3.91533612e-08,  1.15376191e-04,\n",
       "        1.15376191e-04, -1.44060135e-09, -3.47674836e-08, -1.38894429e-08,\n",
       "       -6.04686274e-11, -2.29308454e-10, -1.41495105e-13, -5.06806833e-14,\n",
       "       -7.61838416e-16, -1.09129674e-15])"
      ]
     },
     "execution_count": 15,
     "metadata": {},
     "output_type": "execute_result"
    }
   ],
   "source": [
    "dx"
   ]
  },
  {
   "cell_type": "code",
   "execution_count": 16,
   "metadata": {},
   "outputs": [
    {
     "data": {
      "text/plain": [
       "58"
      ]
     },
     "execution_count": 16,
     "metadata": {},
     "output_type": "execute_result"
    }
   ],
   "source": [
    "len(dxx)"
   ]
  },
  {
   "cell_type": "code",
   "execution_count": 18,
   "metadata": {},
   "outputs": [
    {
     "data": {
      "text/plain": [
       "(58, 58)"
      ]
     },
     "execution_count": 18,
     "metadata": {},
     "output_type": "execute_result"
    }
   ],
   "source": [
    "np.shape(dxx)"
   ]
  },
  {
   "cell_type": "code",
   "execution_count": 20,
   "metadata": {},
   "outputs": [
    {
     "data": {
      "text/plain": [
       "4.217352743086264e-14"
      ]
     },
     "execution_count": 20,
     "metadata": {},
     "output_type": "execute_result"
    }
   ],
   "source": [
    "dxx[1,0]"
   ]
  },
  {
   "cell_type": "code",
   "execution_count": 21,
   "metadata": {},
   "outputs": [
    {
     "data": {
      "text/plain": [
       "4.217352743086264e-14"
      ]
     },
     "execution_count": 21,
     "metadata": {},
     "output_type": "execute_result"
    }
   ],
   "source": [
    "dxx[0,1]"
   ]
  },
  {
   "cell_type": "code",
   "execution_count": 22,
   "metadata": {},
   "outputs": [],
   "source": [
    "np.save('dxx.npy', dxx)"
   ]
  },
  {
   "cell_type": "code",
   "execution_count": null,
   "metadata": {},
   "outputs": [],
   "source": []
  }
 ],
 "metadata": {
  "kernelspec": {
   "display_name": "Python 3",
   "language": "python",
   "name": "python3"
  },
  "language_info": {
   "codemirror_mode": {
    "name": "ipython",
    "version": 3
   },
   "file_extension": ".py",
   "mimetype": "text/x-python",
   "name": "python",
   "nbconvert_exporter": "python",
   "pygments_lexer": "ipython3",
   "version": "3.7.3"
  }
 },
 "nbformat": 4,
 "nbformat_minor": 2
}
